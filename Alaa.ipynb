{
  "nbformat": 4,
  "nbformat_minor": 0,
  "metadata": {
    "colab": {
      "provenance": [],
      "authorship_tag": "ABX9TyMrU1YvdpsnV3vzbXnlEdY7",
      "include_colab_link": true
    },
    "kernelspec": {
      "name": "python3",
      "display_name": "Python 3"
    },
    "language_info": {
      "name": "python"
    }
  },
  "cells": [
    {
      "cell_type": "markdown",
      "metadata": {
        "id": "view-in-github",
        "colab_type": "text"
      },
      "source": [
        "<a href=\"https://colab.research.google.com/github/AlaaEzzdeen/ipynb/blob/main/Alaa.ipynb\" target=\"_parent\"><img src=\"https://colab.research.google.com/assets/colab-badge.svg\" alt=\"Open In Colab\"/></a>"
      ]
    },
    {
      "cell_type": "code",
      "execution_count": null,
      "metadata": {
        "colab": {
          "base_uri": "https://localhost:8080/"
        },
        "id": "JQR2SLEOVhdP",
        "outputId": "5bfaaf58-1318-4e92-a73a-d0791e37f011"
      },
      "outputs": [
        {
          "output_type": "stream",
          "name": "stdout",
          "text": [
            "alaa 202011068\n"
          ]
        }
      ],
      "source": [
        "name = \"alaa\"\n",
        "id = 202011068\n",
        "print(name, id)"
      ]
    },
    {
      "cell_type": "code",
      "source": [
        "x = int(input(\"Enter the value of x\"))\n",
        "y = int(input(\"Enter the value of y\"))\n",
        "z = x + y\n",
        "print(z)"
      ],
      "metadata": {
        "colab": {
          "base_uri": "https://localhost:8080/"
        },
        "id": "MHSmdE8nW7tW",
        "outputId": "572b62af-9172-4c4b-da83-25b64f53a03a"
      },
      "execution_count": null,
      "outputs": [
        {
          "output_type": "stream",
          "name": "stdout",
          "text": [
            "Enter the value of x30\n",
            "Enter the value of y60\n",
            "90\n"
          ]
        }
      ]
    },
    {
      "cell_type": "code",
      "source": [
        "print(\"-\"*40)\n",
        "for t in range(3):\n",
        "  x=int(input(\"enter the grades\"))\n",
        "  if(x>=90):\n",
        "    print(\"A\")\n",
        "  elif(x>=80):\n",
        "    print(\"B\")\n",
        "  elif(x>=70):\n",
        "    print(\"C\")\n",
        "  elif(x>=60):\n",
        "    print(\"D\")\n",
        "  else:\n",
        "    print(\"F\")"
      ],
      "metadata": {
        "colab": {
          "base_uri": "https://localhost:8080/"
        },
        "id": "YjJfdAzpZvVe",
        "outputId": "19bedca6-7e5c-4fa3-d09c-a766505a9505"
      },
      "execution_count": null,
      "outputs": [
        {
          "output_type": "stream",
          "name": "stdout",
          "text": [
            "----------------------------------------\n",
            "enter the grades92\n",
            "A\n",
            "enter the grades40\n",
            "F\n",
            "enter the grades60\n",
            "F\n"
          ]
        }
      ]
    },
    {
      "cell_type": "code",
      "source": [
        "num1 = int(input(\"enter the first number: \"))\n",
        "num2 = int(input(\"enter the second number: \"))\n",
        "if(num1 > num2):\n",
        "  print(num1, \"is greater\")\n",
        "else:\n",
        "  print(num2, \"is greater\")"
      ],
      "metadata": {
        "colab": {
          "base_uri": "https://localhost:8080/"
        },
        "id": "eR1yGWKJbHaj",
        "outputId": "a1430214-fecf-417f-fa06-e71784f4ad20"
      },
      "execution_count": null,
      "outputs": [
        {
          "output_type": "stream",
          "name": "stdout",
          "text": [
            "enter the first number: 32983982\n",
            "enter the second number: 2918391238\n",
            "2918391238 is greater\n"
          ]
        }
      ]
    },
    {
      "cell_type": "code",
      "source": [
        "x = 5\n",
        "def add():\n",
        "  y = x + 3\n",
        "  return y\n",
        "add()"
      ],
      "metadata": {
        "colab": {
          "base_uri": "https://localhost:8080/"
        },
        "id": "J3rwdd4cdkX6",
        "outputId": "bb961365-9bc2-4c8e-d2fa-915c09a54707"
      },
      "execution_count": 5,
      "outputs": [
        {
          "output_type": "execute_result",
          "data": {
            "text/plain": [
              "8"
            ]
          },
          "metadata": {},
          "execution_count": 5
        }
      ]
    },
    {
      "cell_type": "code",
      "source": [
        "fruits = [\"apple\", \"banana\", \"cherry\", \"orange\", \"kiwi\", \"melon\", \"mango\"]\n",
        "print(fruits[2:5])"
      ],
      "metadata": {
        "colab": {
          "base_uri": "https://localhost:8080/"
        },
        "id": "E0iJHsz8iMyS",
        "outputId": "670b50c4-6d57-4e38-f663-5c0c843baf27"
      },
      "execution_count": 14,
      "outputs": [
        {
          "output_type": "stream",
          "name": "stdout",
          "text": [
            "['cherry', 'orange', 'kiwi']\n"
          ]
        }
      ]
    },
    {
      "cell_type": "code",
      "source": [
        "fruits = {\"apple\", \"banana\", \"cherry\"}\n",
        "more_fruits = [\"orange\", \"mango\", \"grapes\"]\n",
        "fruits.update(more_fruits)\n",
        "print(fruits)\n",
        "# ayoo"
      ],
      "metadata": {
        "colab": {
          "base_uri": "https://localhost:8080/"
        },
        "id": "EwIqmVyRknQ4",
        "outputId": "8c4be9dd-6c0e-4a80-9cb7-5437cfa0b5be"
      },
      "execution_count": 16,
      "outputs": [
        {
          "output_type": "stream",
          "name": "stdout",
          "text": [
            "{'mango', 'apple', 'banana', 'orange', 'grapes', 'cherry'}\n"
          ]
        }
      ]
    }
  ]
}